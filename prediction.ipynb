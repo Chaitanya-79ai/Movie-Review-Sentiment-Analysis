{
 "cells": [
  {
   "cell_type": "code",
   "execution_count": 1,
   "metadata": {},
   "outputs": [
    {
     "name": "stderr",
     "output_type": "stream",
     "text": [
      "2024-12-06 12:30:23.361170: I tensorflow/core/util/port.cc:153] oneDNN custom operations are on. You may see slightly different numerical results due to floating-point round-off errors from different computation orders. To turn them off, set the environment variable `TF_ENABLE_ONEDNN_OPTS=0`.\n",
      "2024-12-06 12:30:23.361743: I external/local_xla/xla/tsl/cuda/cudart_stub.cc:32] Could not find cuda drivers on your machine, GPU will not be used.\n",
      "2024-12-06 12:30:23.364546: I external/local_xla/xla/tsl/cuda/cudart_stub.cc:32] Could not find cuda drivers on your machine, GPU will not be used.\n",
      "2024-12-06 12:30:23.371978: E external/local_xla/xla/stream_executor/cuda/cuda_fft.cc:477] Unable to register cuFFT factory: Attempting to register factory for plugin cuFFT when one has already been registered\n",
      "WARNING: All log messages before absl::InitializeLog() is called are written to STDERR\n",
      "E0000 00:00:1733468423.384516   29647 cuda_dnn.cc:8310] Unable to register cuDNN factory: Attempting to register factory for plugin cuDNN when one has already been registered\n",
      "E0000 00:00:1733468423.388136   29647 cuda_blas.cc:1418] Unable to register cuBLAS factory: Attempting to register factory for plugin cuBLAS when one has already been registered\n",
      "2024-12-06 12:30:23.402135: I tensorflow/core/platform/cpu_feature_guard.cc:210] This TensorFlow binary is optimized to use available CPU instructions in performance-critical operations.\n",
      "To enable the following instructions: AVX2 AVX512F AVX512_VNNI FMA, in other operations, rebuild TensorFlow with the appropriate compiler flags.\n"
     ]
    }
   ],
   "source": [
    "# Step 1: Import Libraries and Load the Model\n",
    "import numpy as np\n",
    "import tensorflow as tf\n",
    "from tensorflow.keras.datasets import imdb\n",
    "from tensorflow.keras.preprocessing import sequence\n",
    "from tensorflow.keras.models import load_model"
   ]
  },
  {
   "cell_type": "code",
   "execution_count": 2,
   "metadata": {},
   "outputs": [],
   "source": [
    "\n",
    "# Load the IMDB dataset word index\n",
    "word_index = imdb.get_word_index()\n",
    "reverse_word_index = {value: key for key, value in word_index.items()}"
   ]
  },
  {
   "cell_type": "code",
   "execution_count": 3,
   "metadata": {},
   "outputs": [
    {
     "name": "stderr",
     "output_type": "stream",
     "text": [
      "2024-12-06 12:30:24.989748: E external/local_xla/xla/stream_executor/cuda/cuda_driver.cc:152] failed call to cuInit: INTERNAL: CUDA error: Failed call to cuInit: UNKNOWN ERROR (303)\n",
      "WARNING:absl:Compiled the loaded model, but the compiled metrics have yet to be built. `model.compile_metrics` will be empty until you train or evaluate the model.\n"
     ]
    },
    {
     "data": {
      "text/html": [
       "<pre style=\"white-space:pre;overflow-x:auto;line-height:normal;font-family:Menlo,'DejaVu Sans Mono',consolas,'Courier New',monospace\"><span style=\"font-weight: bold\">Model: \"sequential\"</span>\n",
       "</pre>\n"
      ],
      "text/plain": [
       "\u001b[1mModel: \"sequential\"\u001b[0m\n"
      ]
     },
     "metadata": {},
     "output_type": "display_data"
    },
    {
     "data": {
      "text/html": [
       "<pre style=\"white-space:pre;overflow-x:auto;line-height:normal;font-family:Menlo,'DejaVu Sans Mono',consolas,'Courier New',monospace\">┏━━━━━━━━━━━━━━━━━━━━━━━━━━━━━━━━━┳━━━━━━━━━━━━━━━━━━━━━━━━┳━━━━━━━━━━━━━━━┓\n",
       "┃<span style=\"font-weight: bold\"> Layer (type)                    </span>┃<span style=\"font-weight: bold\"> Output Shape           </span>┃<span style=\"font-weight: bold\">       Param # </span>┃\n",
       "┡━━━━━━━━━━━━━━━━━━━━━━━━━━━━━━━━━╇━━━━━━━━━━━━━━━━━━━━━━━━╇━━━━━━━━━━━━━━━┩\n",
       "│ embedding (<span style=\"color: #0087ff; text-decoration-color: #0087ff\">Embedding</span>)           │ (<span style=\"color: #00af00; text-decoration-color: #00af00\">32</span>, <span style=\"color: #00af00; text-decoration-color: #00af00\">500</span>, <span style=\"color: #00af00; text-decoration-color: #00af00\">128</span>)         │     <span style=\"color: #00af00; text-decoration-color: #00af00\">1,280,000</span> │\n",
       "├─────────────────────────────────┼────────────────────────┼───────────────┤\n",
       "│ simple_rnn (<span style=\"color: #0087ff; text-decoration-color: #0087ff\">SimpleRNN</span>)          │ (<span style=\"color: #00af00; text-decoration-color: #00af00\">32</span>, <span style=\"color: #00af00; text-decoration-color: #00af00\">128</span>)              │        <span style=\"color: #00af00; text-decoration-color: #00af00\">32,896</span> │\n",
       "├─────────────────────────────────┼────────────────────────┼───────────────┤\n",
       "│ dense (<span style=\"color: #0087ff; text-decoration-color: #0087ff\">Dense</span>)                   │ (<span style=\"color: #00af00; text-decoration-color: #00af00\">32</span>, <span style=\"color: #00af00; text-decoration-color: #00af00\">1</span>)                │           <span style=\"color: #00af00; text-decoration-color: #00af00\">129</span> │\n",
       "└─────────────────────────────────┴────────────────────────┴───────────────┘\n",
       "</pre>\n"
      ],
      "text/plain": [
       "┏━━━━━━━━━━━━━━━━━━━━━━━━━━━━━━━━━┳━━━━━━━━━━━━━━━━━━━━━━━━┳━━━━━━━━━━━━━━━┓\n",
       "┃\u001b[1m \u001b[0m\u001b[1mLayer (type)                   \u001b[0m\u001b[1m \u001b[0m┃\u001b[1m \u001b[0m\u001b[1mOutput Shape          \u001b[0m\u001b[1m \u001b[0m┃\u001b[1m \u001b[0m\u001b[1m      Param #\u001b[0m\u001b[1m \u001b[0m┃\n",
       "┡━━━━━━━━━━━━━━━━━━━━━━━━━━━━━━━━━╇━━━━━━━━━━━━━━━━━━━━━━━━╇━━━━━━━━━━━━━━━┩\n",
       "│ embedding (\u001b[38;5;33mEmbedding\u001b[0m)           │ (\u001b[38;5;34m32\u001b[0m, \u001b[38;5;34m500\u001b[0m, \u001b[38;5;34m128\u001b[0m)         │     \u001b[38;5;34m1,280,000\u001b[0m │\n",
       "├─────────────────────────────────┼────────────────────────┼───────────────┤\n",
       "│ simple_rnn (\u001b[38;5;33mSimpleRNN\u001b[0m)          │ (\u001b[38;5;34m32\u001b[0m, \u001b[38;5;34m128\u001b[0m)              │        \u001b[38;5;34m32,896\u001b[0m │\n",
       "├─────────────────────────────────┼────────────────────────┼───────────────┤\n",
       "│ dense (\u001b[38;5;33mDense\u001b[0m)                   │ (\u001b[38;5;34m32\u001b[0m, \u001b[38;5;34m1\u001b[0m)                │           \u001b[38;5;34m129\u001b[0m │\n",
       "└─────────────────────────────────┴────────────────────────┴───────────────┘\n"
      ]
     },
     "metadata": {},
     "output_type": "display_data"
    },
    {
     "data": {
      "text/html": [
       "<pre style=\"white-space:pre;overflow-x:auto;line-height:normal;font-family:Menlo,'DejaVu Sans Mono',consolas,'Courier New',monospace\"><span style=\"font-weight: bold\"> Total params: </span><span style=\"color: #00af00; text-decoration-color: #00af00\">1,313,027</span> (5.01 MB)\n",
       "</pre>\n"
      ],
      "text/plain": [
       "\u001b[1m Total params: \u001b[0m\u001b[38;5;34m1,313,027\u001b[0m (5.01 MB)\n"
      ]
     },
     "metadata": {},
     "output_type": "display_data"
    },
    {
     "data": {
      "text/html": [
       "<pre style=\"white-space:pre;overflow-x:auto;line-height:normal;font-family:Menlo,'DejaVu Sans Mono',consolas,'Courier New',monospace\"><span style=\"font-weight: bold\"> Trainable params: </span><span style=\"color: #00af00; text-decoration-color: #00af00\">1,313,025</span> (5.01 MB)\n",
       "</pre>\n"
      ],
      "text/plain": [
       "\u001b[1m Trainable params: \u001b[0m\u001b[38;5;34m1,313,025\u001b[0m (5.01 MB)\n"
      ]
     },
     "metadata": {},
     "output_type": "display_data"
    },
    {
     "data": {
      "text/html": [
       "<pre style=\"white-space:pre;overflow-x:auto;line-height:normal;font-family:Menlo,'DejaVu Sans Mono',consolas,'Courier New',monospace\"><span style=\"font-weight: bold\"> Non-trainable params: </span><span style=\"color: #00af00; text-decoration-color: #00af00\">0</span> (0.00 B)\n",
       "</pre>\n"
      ],
      "text/plain": [
       "\u001b[1m Non-trainable params: \u001b[0m\u001b[38;5;34m0\u001b[0m (0.00 B)\n"
      ]
     },
     "metadata": {},
     "output_type": "display_data"
    },
    {
     "data": {
      "text/html": [
       "<pre style=\"white-space:pre;overflow-x:auto;line-height:normal;font-family:Menlo,'DejaVu Sans Mono',consolas,'Courier New',monospace\"><span style=\"font-weight: bold\"> Optimizer params: </span><span style=\"color: #00af00; text-decoration-color: #00af00\">2</span> (12.00 B)\n",
       "</pre>\n"
      ],
      "text/plain": [
       "\u001b[1m Optimizer params: \u001b[0m\u001b[38;5;34m2\u001b[0m (12.00 B)\n"
      ]
     },
     "metadata": {},
     "output_type": "display_data"
    }
   ],
   "source": [
    "# Load the pre-trained model with ReLU activation\n",
    "model = load_model('simple_rnn_imdb.h5')\n",
    "model.summary()"
   ]
  },
  {
   "cell_type": "code",
   "execution_count": 4,
   "metadata": {},
   "outputs": [
    {
     "data": {
      "text/plain": [
       "[array([[ 0.05488673,  0.1187531 ,  0.02685683, ...,  0.08705425,\n",
       "          0.0843318 ,  0.1050483 ],\n",
       "        [-0.01313303, -0.04663475, -0.03045236, ...,  0.00234718,\n",
       "          0.01727444,  0.03279582],\n",
       "        [ 0.08370019,  0.10545056,  0.07985877, ...,  0.03964961,\n",
       "         -0.09650046,  0.15296644],\n",
       "        ...,\n",
       "        [-0.02041977,  0.02045505,  0.04538927, ..., -0.03024227,\n",
       "         -0.00768314,  0.07963686],\n",
       "        [ 0.10333548,  0.11130543, -0.01098968, ...,  0.11997099,\n",
       "          0.09883933, -0.07331872],\n",
       "        [-0.02572245, -0.05432533, -0.03364895, ..., -0.01966714,\n",
       "         -0.04145666,  0.002766  ]], dtype=float32),\n",
       " array([[ 0.14568324, -0.1605378 , -0.09160219, ..., -0.09591151,\n",
       "          0.12247077, -0.08678791],\n",
       "        [ 0.19066776,  0.09970881,  0.0152955 , ...,  0.08565126,\n",
       "         -0.13415422, -0.01968568],\n",
       "        [ 0.14745027,  0.02420156,  0.09421197, ..., -0.15023899,\n",
       "          0.11886925, -0.04038052],\n",
       "        ...,\n",
       "        [ 0.15768486, -0.05387719,  0.08127221, ..., -0.15780337,\n",
       "          0.11014397,  0.03513592],\n",
       "        [-0.05680946, -0.08942563,  0.10523229, ...,  0.02825546,\n",
       "          0.02751129,  0.08038703],\n",
       "        [-0.0201235 ,  0.12032747, -0.04484066, ...,  0.04615141,\n",
       "         -0.10941433, -0.06487084]], dtype=float32),\n",
       " array([[ 0.12554853, -0.02210415,  0.10632439, ...,  0.01702573,\n",
       "         -0.08709525,  0.0886269 ],\n",
       "        [-0.12044033,  0.2204312 ,  0.00660869, ..., -0.05896872,\n",
       "          0.1371125 , -0.00149838],\n",
       "        [ 0.21023251, -0.08816898, -0.04459904, ...,  0.07868898,\n",
       "          0.17673515, -0.1112991 ],\n",
       "        ...,\n",
       "        [ 0.00985992,  0.00802051, -0.11302257, ..., -0.02958623,\n",
       "          0.04017211,  0.00634595],\n",
       "        [ 0.07510195, -0.00566441, -0.02078396, ..., -0.00977872,\n",
       "          0.06310943, -0.01199687],\n",
       "        [ 0.20642085, -0.11962864,  0.05485523, ..., -0.00369394,\n",
       "          0.02474443, -0.02057252]], dtype=float32),\n",
       " array([ 0.02195783, -0.0091866 , -0.02972205,  0.0151455 , -0.02225575,\n",
       "        -0.01935707,  0.02278077,  0.0041569 , -0.03270046, -0.03563745,\n",
       "        -0.02956558, -0.02489498,  0.01174028, -0.01587235, -0.03569377,\n",
       "        -0.0293604 , -0.0254184 , -0.02681407, -0.01023124, -0.02332888,\n",
       "        -0.02024136,  0.03784359,  0.00407931,  0.0128376 ,  0.01288675,\n",
       "        -0.02640116, -0.01201237,  0.02701282, -0.00017436,  0.00721028,\n",
       "        -0.01808665, -0.01260318,  0.02884092, -0.02140936, -0.01070145,\n",
       "        -0.04503426,  0.01469196,  0.00625308, -0.01029203, -0.00683173,\n",
       "         0.01209298,  0.00999433,  0.01340198, -0.03557928, -0.01999565,\n",
       "        -0.01991778,  0.00228324,  0.00505431,  0.02256025,  0.0162704 ,\n",
       "         0.02273393,  0.00935484,  0.0215912 , -0.03105804, -0.0319602 ,\n",
       "        -0.01406187, -0.02390166,  0.02055561,  0.007398  ,  0.00551045,\n",
       "         0.00226605, -0.0272277 , -0.02651929,  0.02083469, -0.00721516,\n",
       "         0.00474796, -0.01323038, -0.02313997, -0.01854381, -0.03113005,\n",
       "        -0.02845054, -0.02254028,  0.00730506,  0.01391326, -0.02396918,\n",
       "         0.01511034, -0.00790396, -0.00437175, -0.02378407, -0.02285851,\n",
       "        -0.04074902, -0.03026378,  0.00777929,  0.01614828,  0.00397973,\n",
       "        -0.01290037,  0.00905812,  0.00744599,  0.02708117,  0.01556418,\n",
       "         0.00080604, -0.03234204, -0.03727885, -0.00466135, -0.00665423,\n",
       "         0.00110864, -0.0236594 , -0.01230723,  0.01233934, -0.02375561,\n",
       "         0.04739173,  0.02462564, -0.01979482, -0.02453622,  0.01693138,\n",
       "         0.01219314, -0.03346305, -0.01309467, -0.022769  ,  0.01797619,\n",
       "         0.03036899,  0.03771584, -0.03169641, -0.0180352 ,  0.00968265,\n",
       "        -0.00736996,  0.01441799, -0.01669871, -0.01626881, -0.02774936,\n",
       "         0.01216958,  0.01938102, -0.01066359, -0.01690786, -0.0050801 ,\n",
       "        -0.02019249,  0.00089306,  0.01218334], dtype=float32),\n",
       " array([[-0.13525382],\n",
       "        [ 0.19366343],\n",
       "        [ 0.01711073],\n",
       "        [-0.11498681],\n",
       "        [ 0.187261  ],\n",
       "        [ 0.20105503],\n",
       "        [-0.06456891],\n",
       "        [-0.14070217],\n",
       "        [ 0.1510874 ],\n",
       "        [-0.08120386],\n",
       "        [ 0.21986052],\n",
       "        [-0.17474288],\n",
       "        [ 0.13526148],\n",
       "        [ 0.10394784],\n",
       "        [-0.04752931],\n",
       "        [-0.21779597],\n",
       "        [ 0.22392334],\n",
       "        [ 0.32544312],\n",
       "        [ 0.08811774],\n",
       "        [-0.18634926],\n",
       "        [ 0.13199691],\n",
       "        [ 0.16514102],\n",
       "        [-0.01674333],\n",
       "        [-0.00869627],\n",
       "        [-0.21826687],\n",
       "        [ 0.16759284],\n",
       "        [-0.1026277 ],\n",
       "        [-0.02586626],\n",
       "        [-0.01920018],\n",
       "        [ 0.08585943],\n",
       "        [ 0.16904913],\n",
       "        [ 0.02093005],\n",
       "        [-0.32667983],\n",
       "        [ 0.03792219],\n",
       "        [ 0.1109256 ],\n",
       "        [ 0.05739272],\n",
       "        [ 0.07109921],\n",
       "        [ 0.1282663 ],\n",
       "        [-0.13744806],\n",
       "        [ 0.2144375 ],\n",
       "        [ 0.06354735],\n",
       "        [-0.4491955 ],\n",
       "        [-0.32723007],\n",
       "        [-0.00767364],\n",
       "        [ 0.19963776],\n",
       "        [ 0.19540872],\n",
       "        [-0.14417407],\n",
       "        [ 0.03330737],\n",
       "        [ 0.10170051],\n",
       "        [ 0.02578627],\n",
       "        [ 0.16194683],\n",
       "        [ 0.19106056],\n",
       "        [-0.15421323],\n",
       "        [ 0.04170148],\n",
       "        [ 0.08221106],\n",
       "        [ 0.08128923],\n",
       "        [-0.01898799],\n",
       "        [ 0.17636295],\n",
       "        [-0.19116196],\n",
       "        [-0.29869488],\n",
       "        [ 0.14126036],\n",
       "        [-0.00820268],\n",
       "        [ 0.03336478],\n",
       "        [ 0.14372547],\n",
       "        [ 0.15819386],\n",
       "        [-0.17680109],\n",
       "        [ 0.04011082],\n",
       "        [ 0.21368414],\n",
       "        [ 0.06463953],\n",
       "        [ 0.33001122],\n",
       "        [ 0.47444668],\n",
       "        [ 0.1638337 ],\n",
       "        [-0.14425878],\n",
       "        [ 0.5254273 ],\n",
       "        [-0.0250393 ],\n",
       "        [ 0.07896603],\n",
       "        [ 0.08385713],\n",
       "        [ 0.06224582],\n",
       "        [ 0.20845574],\n",
       "        [ 0.22745164],\n",
       "        [-0.01440074],\n",
       "        [-0.01187499],\n",
       "        [-0.19049653],\n",
       "        [ 0.0258125 ],\n",
       "        [ 0.05327279],\n",
       "        [ 0.21870047],\n",
       "        [-0.21586664],\n",
       "        [ 0.09004201],\n",
       "        [-0.08678266],\n",
       "        [-0.02508202],\n",
       "        [-0.2471975 ],\n",
       "        [-0.18389991],\n",
       "        [ 0.6132098 ],\n",
       "        [ 0.11990853],\n",
       "        [-0.06465933],\n",
       "        [ 0.19526015],\n",
       "        [-0.09294733],\n",
       "        [ 0.13730475],\n",
       "        [ 0.21964438],\n",
       "        [-0.28259146],\n",
       "        [-0.05101314],\n",
       "        [ 0.15540145],\n",
       "        [-0.00380362],\n",
       "        [ 0.10125626],\n",
       "        [-0.21481661],\n",
       "        [ 0.20541638],\n",
       "        [ 0.14721015],\n",
       "        [ 0.10951833],\n",
       "        [-0.30264318],\n",
       "        [-0.08346944],\n",
       "        [ 0.17484419],\n",
       "        [-0.09794263],\n",
       "        [-0.22113213],\n",
       "        [ 0.05982398],\n",
       "        [ 0.00756294],\n",
       "        [ 0.14527024],\n",
       "        [ 0.1970742 ],\n",
       "        [ 0.14795177],\n",
       "        [ 0.16971625],\n",
       "        [-0.03550995],\n",
       "        [-0.05098083],\n",
       "        [-0.00387742],\n",
       "        [-0.1866378 ],\n",
       "        [ 0.15269428],\n",
       "        [ 0.07412484],\n",
       "        [-0.06928892],\n",
       "        [-0.0531331 ],\n",
       "        [-0.2437639 ]], dtype=float32),\n",
       " array([0.47396532], dtype=float32)]"
      ]
     },
     "execution_count": 4,
     "metadata": {},
     "output_type": "execute_result"
    }
   ],
   "source": [
    "model.get_weights()"
   ]
  },
  {
   "cell_type": "code",
   "execution_count": 5,
   "metadata": {},
   "outputs": [],
   "source": [
    "# Step 2: Helper Functions\n",
    "# Function to decode reviews\n",
    "def decode_review(encoded_review):\n",
    "    return ' '.join([reverse_word_index.get(i - 3, '?') for i in encoded_review])\n",
    "\n",
    "# Function to preprocess user input\n",
    "def preprocess_text(text):\n",
    "    words = text.lower().split()\n",
    "    encoded_review = [word_index.get(word, 2) + 3 for word in words]\n",
    "    padded_review = sequence.pad_sequences([encoded_review], maxlen=500)\n",
    "    return padded_review"
   ]
  },
  {
   "cell_type": "code",
   "execution_count": 6,
   "metadata": {},
   "outputs": [],
   "source": [
    "### Prediction  function\n",
    "\n",
    "def predict_sentiment(review):\n",
    "    preprocessed_input=preprocess_text(review)\n",
    "\n",
    "    prediction=model.predict(preprocessed_input)\n",
    "\n",
    "    sentiment = 'Positive' if prediction[0][0] > 0.5 else 'Negative'\n",
    "    \n",
    "    return sentiment, prediction[0][0]\n",
    "\n"
   ]
  },
  {
   "cell_type": "code",
   "execution_count": 7,
   "metadata": {},
   "outputs": [
    {
     "name": "stdout",
     "output_type": "stream",
     "text": [
      "\u001b[1m1/1\u001b[0m \u001b[32m━━━━━━━━━━━━━━━━━━━━\u001b[0m\u001b[37m\u001b[0m \u001b[1m0s\u001b[0m 146ms/step\n",
      "Review: This movie was fantastic! The acting was great and the plot was thrilling.\n",
      "Sentiment: Positive\n",
      "Prediction Score: 0.6778502464294434\n"
     ]
    }
   ],
   "source": [
    "# Step 4: User Input and Prediction\n",
    "# Example review for prediction\n",
    "example_review = \"This movie was fantastic! The acting was great and the plot was thrilling.\"\n",
    "\n",
    "sentiment,score=predict_sentiment(example_review)\n",
    "\n",
    "print(f'Review: {example_review}')\n",
    "print(f'Sentiment: {sentiment}')\n",
    "print(f'Prediction Score: {score}')"
   ]
  },
  {
   "cell_type": "code",
   "execution_count": null,
   "metadata": {},
   "outputs": [],
   "source": []
  },
  {
   "cell_type": "code",
   "execution_count": null,
   "metadata": {},
   "outputs": [],
   "source": []
  },
  {
   "cell_type": "code",
   "execution_count": null,
   "metadata": {},
   "outputs": [],
   "source": []
  },
  {
   "cell_type": "code",
   "execution_count": null,
   "metadata": {},
   "outputs": [],
   "source": []
  }
 ],
 "metadata": {
  "kernelspec": {
   "display_name": "Python 3 (ipykernel)",
   "language": "python",
   "name": "python3"
  },
  "language_info": {
   "codemirror_mode": {
    "name": "ipython",
    "version": 3
   },
   "file_extension": ".py",
   "mimetype": "text/x-python",
   "name": "python",
   "nbconvert_exporter": "python",
   "pygments_lexer": "ipython3",
   "version": "3.12.2"
  }
 },
 "nbformat": 4,
 "nbformat_minor": 4
}
